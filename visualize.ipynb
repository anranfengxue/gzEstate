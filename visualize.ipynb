{
 "cells": [
  {
   "cell_type": "code",
   "execution_count": 1,
   "metadata": {
    "collapsed": true
   },
   "outputs": [],
   "source": [
    "import matplotlib.pylab as plt\n",
    "import pandas as pd\n",
    "import sqlite3\n",
    "import json\n",
    "from functools import partial\n",
    "try:\n",
    "    import baidu_api_ak\n",
    "except ImportError:\n",
    "    baidu_api_ak = None"
   ]
  },
  {
   "cell_type": "code",
   "execution_count": 2,
   "metadata": {},
   "outputs": [],
   "source": [
    "db = \"./data/haizhu@gz.houses.db.20170106\"\n",
    "con = sqlite3.connect(db)\n",
    "\n",
    "query = \"\"\"\n",
    "SELECT \n",
    "\"链家编号\", \"标题\", \"总价\", \"建筑面积\", \"经度\", \"纬度\"\n",
    "FROM houses;\n",
    "\"\"\"\n",
    "\n",
    "df = pd.read_sql(query, con)\n",
    "df[\"单价\"] = df[\"总价\"] / df[\"建筑面积\"]\n",
    "fn = lambda x, pnt_pos: int(x*pnt_pos+0.5)/pnt_pos\n",
    "map_fn = partial(fn, pnt_pos=10000.0)\n",
    "df[\"经度_集中\"] = df[\"经度\"].map(map_fn)\n",
    "df[\"纬度_集中\"] = df[\"纬度\"].map(map_fn)"
   ]
  },
  {
   "cell_type": "code",
   "execution_count": 3,
   "metadata": {},
   "outputs": [],
   "source": [
    "api_pattern_file = \"./baidu_api_pattern.html\"\n",
    "api_file = \"./data/haizhu@gz.houses.html\"\n",
    "\n",
    "df_group = df.groupby([df[\"经度_集中\"], df[\"纬度_集中\"]]).mean()\n",
    "df_group[\"单价\"] = df_group[\"单价\"].map(partial(fn, pnt_pos=10.0)) * 20.0\n",
    "to_dict = lambda row : {\"lng\": row[\"经度_集中\"], \"lat\": row[\"纬度_集中\"], \"count\": row[\"单价\"]}\n",
    "data = [to_dict(df_group.ix[index]) for index in df_group.index]\n",
    "with open(api_pattern_file) as pattern_f, open(api_file, \"w\") as api_f:\n",
    "    pattern = pattern_f.read()\n",
    "    data_repr = json.dumps(data, ensure_ascii=False)\n",
    "    data_repr = data_repr.replace(\"},\", \"},\\n\")\n",
    "    \n",
    "    center_lnt = (df[\"经度\"].max() + df[\"经度\"].min())/2.0\n",
    "    center_lat = (df[\"纬度\"].max() + df[\"纬度\"].min())/2.0\n",
    "    \n",
    "    ak = \"您的密钥\"\n",
    "    if baidu_api_ak:\n",
    "        ak = baidu_api_ak.ak\n",
    "    query_str = \"/api?v2.0&ak=%s\" % ak\n",
    "    pattern = pattern.replace(\"{{query_url}}\", query_str)\n",
    "    pattern = pattern.replace(\"{{center_lnt}}\", str(center_lnt))\n",
    "    pattern = pattern.replace(\"{{center_lat}}\", str(center_lat))\n",
    "    pattern = pattern.replace(\"{{points}}\", data_repr)\n",
    "    api_f.write(pattern)"
   ]
  },
  {
   "cell_type": "code",
   "execution_count": null,
   "metadata": {},
   "outputs": [],
   "source": [
    ""
   ]
  }
 ],
 "metadata": {
  "kernelspec": {
   "display_name": "Python 2",
   "language": "python",
   "name": "python2"
  },
  "language_info": {
   "codemirror_mode": {
    "name": "ipython",
    "version": 2.0
   },
   "file_extension": ".py",
   "mimetype": "text/x-python",
   "name": "python",
   "nbconvert_exporter": "python",
   "pygments_lexer": "ipython2",
   "version": "2.7.6"
  }
 },
 "nbformat": 4,
 "nbformat_minor": 0
}